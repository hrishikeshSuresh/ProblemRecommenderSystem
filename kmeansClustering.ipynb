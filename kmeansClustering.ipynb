{
 "cells": [
  {
   "cell_type": "code",
   "execution_count": 1,
   "metadata": {},
   "outputs": [],
   "source": [
    "import pandas as pd\n",
    "import numpy as np\n",
    "from sklearn.cluster import KMeans\n",
    "from functools import reduce"
   ]
  },
  {
   "cell_type": "code",
   "execution_count": 2,
   "metadata": {},
   "outputs": [],
   "source": [
    "user_data = pd.read_csv(\"train/user_data.csv\")\n",
    "train_submissions = pd.read_csv(\"train/train_submissions.csv\")"
   ]
  },
  {
   "cell_type": "code",
   "execution_count": 3,
   "metadata": {},
   "outputs": [],
   "source": [
    "#two types of clustering used below(run only one of below two blocks)"
   ]
  },
  {
   "cell_type": "code",
   "execution_count": 4,
   "metadata": {},
   "outputs": [
    {
     "name": "stderr",
     "output_type": "stream",
     "text": [
      "C:\\Anaconda\\lib\\site-packages\\sklearn\\cluster\\k_means_.py:896: RuntimeWarning: Explicit initial center position passed: performing only one init in k-means instead of n_init=10\n",
      "  return_n_iter=True)\n"
     ]
    }
   ],
   "source": [
    "#only using the rating of user\n",
    "no_of_clusters = 10\n",
    "init_clusters = np.asarray([[i*100] for i in range(1, 1+no_of_clusters)])\n",
    "x_train = [[i] for i in user_data['rating']]\n",
    "kmeans = KMeans(n_clusters=no_of_clusters, init=init_clusters).fit(x_train)"
   ]
  },
  {
   "cell_type": "code",
   "execution_count": 6,
   "metadata": {},
   "outputs": [],
   "source": [
    "user_data['cluster'] = (kmeans.labels_)"
   ]
  },
  {
   "cell_type": "code",
   "execution_count": 7,
   "metadata": {},
   "outputs": [
    {
     "data": {
      "text/plain": [
       "array([[ 265.87259895,   51.54797601],\n",
       "       [ 496.18670732, 1116.58536585],\n",
       "       [ 452.74735248,  287.94516971],\n",
       "       [ 562.17961765, 1687.97058824],\n",
       "       [ 455.06861261,  773.13063063],\n",
       "       [ 401.96385231,   96.33096085],\n",
       "       [ 789.278     , 4476.        ],\n",
       "       [ 403.91007278,  500.25067385],\n",
       "       [ 580.84872222, 2336.83333333],\n",
       "       [ 294.82947419,  238.94263862]])"
      ]
     },
     "execution_count": 7,
     "metadata": {},
     "output_type": "execute_result"
    }
   ],
   "source": [
    "kmeans.cluster_centers_\n",
    "#just to know the cluster centres of formed clusters"
   ]
  },
  {
   "cell_type": "code",
   "execution_count": 8,
   "metadata": {},
   "outputs": [
    {
     "data": {
      "text/html": [
       "<div>\n",
       "<style scoped>\n",
       "    .dataframe tbody tr th:only-of-type {\n",
       "        vertical-align: middle;\n",
       "    }\n",
       "\n",
       "    .dataframe tbody tr th {\n",
       "        vertical-align: top;\n",
       "    }\n",
       "\n",
       "    .dataframe thead th {\n",
       "        text-align: right;\n",
       "    }\n",
       "</style>\n",
       "<table border=\"1\" class=\"dataframe\">\n",
       "  <thead>\n",
       "    <tr style=\"text-align: right;\">\n",
       "      <th></th>\n",
       "      <th>user_id</th>\n",
       "      <th>submission_count</th>\n",
       "      <th>problem_solved</th>\n",
       "      <th>contribution</th>\n",
       "      <th>country</th>\n",
       "      <th>follower_count</th>\n",
       "      <th>last_online_time_seconds</th>\n",
       "      <th>max_rating</th>\n",
       "      <th>rating</th>\n",
       "      <th>rank</th>\n",
       "      <th>registration_time_seconds</th>\n",
       "      <th>cluster</th>\n",
       "    </tr>\n",
       "  </thead>\n",
       "  <tbody>\n",
       "    <tr>\n",
       "      <th>0</th>\n",
       "      <td>user_3311</td>\n",
       "      <td>47</td>\n",
       "      <td>40</td>\n",
       "      <td>0</td>\n",
       "      <td>NaN</td>\n",
       "      <td>4</td>\n",
       "      <td>1504111645</td>\n",
       "      <td>348.337</td>\n",
       "      <td>330.849</td>\n",
       "      <td>intermediate</td>\n",
       "      <td>1466686436</td>\n",
       "      <td>0</td>\n",
       "    </tr>\n",
       "    <tr>\n",
       "      <th>1</th>\n",
       "      <td>user_3028</td>\n",
       "      <td>63</td>\n",
       "      <td>52</td>\n",
       "      <td>0</td>\n",
       "      <td>India</td>\n",
       "      <td>17</td>\n",
       "      <td>1498998165</td>\n",
       "      <td>405.677</td>\n",
       "      <td>339.450</td>\n",
       "      <td>intermediate</td>\n",
       "      <td>1441893325</td>\n",
       "      <td>0</td>\n",
       "    </tr>\n",
       "    <tr>\n",
       "      <th>2</th>\n",
       "      <td>user_2268</td>\n",
       "      <td>226</td>\n",
       "      <td>203</td>\n",
       "      <td>-8</td>\n",
       "      <td>Egypt</td>\n",
       "      <td>24</td>\n",
       "      <td>1505566052</td>\n",
       "      <td>307.339</td>\n",
       "      <td>284.404</td>\n",
       "      <td>beginner</td>\n",
       "      <td>1454267603</td>\n",
       "      <td>9</td>\n",
       "    </tr>\n",
       "    <tr>\n",
       "      <th>3</th>\n",
       "      <td>user_480</td>\n",
       "      <td>611</td>\n",
       "      <td>490</td>\n",
       "      <td>1</td>\n",
       "      <td>Ukraine</td>\n",
       "      <td>94</td>\n",
       "      <td>1505257499</td>\n",
       "      <td>525.803</td>\n",
       "      <td>471.330</td>\n",
       "      <td>advanced</td>\n",
       "      <td>1350720417</td>\n",
       "      <td>7</td>\n",
       "    </tr>\n",
       "    <tr>\n",
       "      <th>4</th>\n",
       "      <td>user_650</td>\n",
       "      <td>504</td>\n",
       "      <td>479</td>\n",
       "      <td>12</td>\n",
       "      <td>Russia</td>\n",
       "      <td>4</td>\n",
       "      <td>1496613433</td>\n",
       "      <td>548.739</td>\n",
       "      <td>486.525</td>\n",
       "      <td>advanced</td>\n",
       "      <td>1395560498</td>\n",
       "      <td>7</td>\n",
       "    </tr>\n",
       "  </tbody>\n",
       "</table>\n",
       "</div>"
      ],
      "text/plain": [
       "     user_id  submission_count  problem_solved  contribution  country  \\\n",
       "0  user_3311                47              40             0      NaN   \n",
       "1  user_3028                63              52             0    India   \n",
       "2  user_2268               226             203            -8    Egypt   \n",
       "3   user_480               611             490             1  Ukraine   \n",
       "4   user_650               504             479            12   Russia   \n",
       "\n",
       "   follower_count  last_online_time_seconds  max_rating   rating  \\\n",
       "0               4                1504111645     348.337  330.849   \n",
       "1              17                1498998165     405.677  339.450   \n",
       "2              24                1505566052     307.339  284.404   \n",
       "3              94                1505257499     525.803  471.330   \n",
       "4               4                1496613433     548.739  486.525   \n",
       "\n",
       "           rank  registration_time_seconds  cluster  \n",
       "0  intermediate                 1466686436        0  \n",
       "1  intermediate                 1441893325        0  \n",
       "2      beginner                 1454267603        9  \n",
       "3      advanced                 1350720417        7  \n",
       "4      advanced                 1395560498        7  "
      ]
     },
     "execution_count": 8,
     "metadata": {},
     "output_type": "execute_result"
    }
   ],
   "source": [
    "user_data.head()"
   ]
  },
  {
   "cell_type": "code",
   "execution_count": 9,
   "metadata": {},
   "outputs": [],
   "source": [
    "problem_pred = [[] for _ in range(no_of_clusters)]\n",
    "for index, row in user_data.iterrows():\n",
    "    problem_pred[row[-1]].append(((train_submissions.loc[train_submissions['user_id'] == row[0]])['problem_id']).tolist())"
   ]
  },
  {
   "cell_type": "code",
   "execution_count": 10,
   "metadata": {},
   "outputs": [],
   "source": [
    "for ii, i in enumerate(problem_pred):\n",
    "    problem_pred[ii] = reduce(lambda x,y : x+y , i)"
   ]
  },
  {
   "cell_type": "code",
   "execution_count": 11,
   "metadata": {},
   "outputs": [
    {
     "name": "stdout",
     "output_type": "stream",
     "text": [
      "user id(number) : 3311\n",
      "number of problem recomendations required : 5\n",
      "\n",
      "recomended problems\n",
      "['prob_75', 'prob_1481', 'prob_3474', 'prob_334', 'prob_3508']\n"
     ]
    }
   ],
   "source": [
    "#user_query = input('enter user id :')\n",
    "user_query = 'user_'+input('user id(number) : ')\n",
    "k = int(input('number of problem recomendations required : '))\n",
    "user_query_cluster = user_data.loc[user_data['user_id'] == user_query, 'cluster']\n",
    "user_query_cluster = [i for i in user_query_cluster][0]\n",
    "user_query_rated = train_submissions.loc[train_submissions['user_id'] == user_query]['problem_id']\n",
    "user_query_prediction = []\n",
    "for i in problem_pred[user_query_cluster]:\n",
    "    if i not in user_query_rated:\n",
    "        user_query_prediction.append(i)\n",
    "    \n",
    "print('\\nrecomended problems')\n",
    "print(user_query_prediction[: k])"
   ]
  },
  {
   "cell_type": "code",
   "execution_count": null,
   "metadata": {},
   "outputs": [],
   "source": []
  }
 ],
 "metadata": {
  "kernelspec": {
   "display_name": "Python 3",
   "language": "python",
   "name": "python3"
  },
  "language_info": {
   "codemirror_mode": {
    "name": "ipython",
    "version": 3
   },
   "file_extension": ".py",
   "mimetype": "text/x-python",
   "name": "python",
   "nbconvert_exporter": "python",
   "pygments_lexer": "ipython3",
   "version": "3.6.5"
  }
 },
 "nbformat": 4,
 "nbformat_minor": 2
}
