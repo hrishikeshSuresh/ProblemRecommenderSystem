{
 "cells": [
  {
   "cell_type": "code",
   "execution_count": 22,
   "metadata": {
    "collapsed": true
   },
   "outputs": [],
   "source": [
    "import csv \n",
    "from sklearn.metrics import mean_squared_error as rmse"
   ]
  },
  {
   "cell_type": "code",
   "execution_count": 2,
   "metadata": {
    "collapsed": true
   },
   "outputs": [],
   "source": [
    "#file reading\n",
    "problem_data = []\n",
    "train_subs = []\n",
    "\n",
    "with open(\"train/problem_data.csv\") as fproblem:\n",
    "    reader = csv.reader(fproblem)\n",
    "    for line in reader:\n",
    "        problem_data.append(line)\n",
    "    problem_data = problem_data[1:]\n",
    "        \n",
    "with open(\"train/train_submissions.csv\") as ftrain:\n",
    "    reader = csv.reader(ftrain)\n",
    "    for line in reader:\n",
    "        train_subs.append(line)\n",
    "    train_subs = train_subs[1:]"
   ]
  },
  {
   "cell_type": "code",
   "execution_count": 3,
   "metadata": {
    "collapsed": true
   },
   "outputs": [],
   "source": [
    "#imputation of level_type with mode value\n",
    "for i in problem_data:\n",
    "    if i[1] == '':\n",
    "        i[1] = 'A'"
   ]
  },
  {
   "cell_type": "code",
   "execution_count": 4,
   "metadata": {
    "collapsed": true
   },
   "outputs": [],
   "source": [
    "#unique users extraction\n",
    "unique_users = list(set(list(map(list, zip(*(train_subs))))[0]))"
   ]
  },
  {
   "cell_type": "code",
   "execution_count": 34,
   "metadata": {},
   "outputs": [],
   "source": [
    "#profile creation\n",
    "\n",
    "profile = [[0]*14 for _ in unique_users]\n",
    "count = [[0]*14 for _ in unique_users]\n",
    "\n",
    "for u, user in enumerate(unique_users):\n",
    "    for subs in train_subs:\n",
    "        if subs[0] == user:\n",
    "            for problem in problem_data:\n",
    "                if problem[0] == subs[1]:\n",
    "                    #print(u, ord(problem[1]) - 65)\n",
    "                    profile[u][ord(problem[1]) - 65] += int(subs[2])\n",
    "                    count[u][ord(problem[1]) - 65] += 1\n",
    "                    break\n",
    "                    \n",
    "for u, user in enumerate(profile):\n",
    "    for l, level in enumerate(user):\n",
    "        if count[u][l] != 0:\n",
    "            profile[u][l] = round(level / count[u][l])"
   ]
  },
  {
   "cell_type": "code",
   "execution_count": 36,
   "metadata": {},
   "outputs": [
    {
     "name": "stdout",
     "output_type": "stream",
     "text": [
      "0.986908786503\n"
     ]
    }
   ],
   "source": [
    "#predicting the ratings and doing in sample validation\n",
    "\n",
    "pred = []\n",
    "actual = []\n",
    "\n",
    "for subs in train_subs:\n",
    "    for p, problem in enumerate(problem_data):\n",
    "        if problem[0] == subs[1]:\n",
    "            query_level = ord(problem[1]) - 65\n",
    "            break\n",
    "    pred.append(profile[unique_users.index(subs[0])][query_level])\n",
    "    actual.append(int(subs[2]))\n",
    "    \n",
    "print('rmse for our prediction(using in sample validation) :', end=' ')\n",
    "print(rmse(actual, pred))"
   ]
  },
  {
   "cell_type": "code",
   "execution_count": 41,
   "metadata": {},
   "outputs": [
    {
     "name": "stdout",
     "output_type": "stream",
     "text": [
      "user_id(number) : 3311\n",
      "prob_id(number) : 4444\n",
      "prediction by our system : 4\n"
     ]
    }
   ],
   "source": [
    "#prediciton for user and problem queried\n",
    "\n",
    "query_user = 'user_' + input('user_id(number) : ')\n",
    "query_problem = 'prob_' + input('prob_id(number) : ')\n",
    "\n",
    "for p, problem in enumerate(problem_data):\n",
    "    if problem[0] == query_problem:\n",
    "        query_level = ord(problem[1]) - 65\n",
    "        break\n",
    "print('prediction by our system :', end=' ')\n",
    "print(profile[unique_users.index(query_user)][query_level])"
   ]
  }
 ],
 "metadata": {
  "kernelspec": {
   "display_name": "Python 3",
   "language": "python",
   "name": "python3"
  },
  "language_info": {
   "codemirror_mode": {
    "name": "ipython",
    "version": 3
   },
   "file_extension": ".py",
   "mimetype": "text/x-python",
   "name": "python",
   "nbconvert_exporter": "python",
   "pygments_lexer": "ipython3",
   "version": "3.6.5"
  }
 },
 "nbformat": 4,
 "nbformat_minor": 2
}
