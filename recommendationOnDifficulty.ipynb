{
 "cells": [
  {
   "cell_type": "code",
   "execution_count": 1,
   "metadata": {},
   "outputs": [],
   "source": [
    "import csv"
   ]
  },
  {
   "cell_type": "code",
   "execution_count": 2,
   "metadata": {},
   "outputs": [],
   "source": [
    "#file reading\n",
    "problem_data = []\n",
    "train_subs = []\n",
    "\n",
    "with open(\"train/problem_data.csv\") as fproblem:\n",
    "    reader = csv.reader(fproblem)\n",
    "    for line in reader:\n",
    "        problem_data.append(line)\n",
    "    problem_data = problem_data[1:]\n",
    "        \n",
    "with open(\"train/train_submissions.csv\") as ftrain:\n",
    "    reader = csv.reader(ftrain)\n",
    "    for line in reader:\n",
    "        train_subs.append(line)\n",
    "    train_subs = train_subs[1:]"
   ]
  },
  {
   "cell_type": "code",
   "execution_count": 3,
   "metadata": {},
   "outputs": [],
   "source": [
    "#3rd column indicates how difficult was the problem to the user\n",
    "#similarly, 4th column indicates how easy was the problem to the user\n",
    "\n",
    "for s, subs in enumerate(train_subs):\n",
    "    train_subs[s].append(7-int(subs[2]))"
   ]
  },
  {
   "cell_type": "code",
   "execution_count": 4,
   "metadata": {},
   "outputs": [],
   "source": [
    "#unique users extraction\n",
    "unique_users = list(set(list(map(list, zip(*(train_subs))))[0]))"
   ]
  },
  {
   "cell_type": "code",
   "execution_count": 5,
   "metadata": {},
   "outputs": [],
   "source": [
    "#imputation of level_type with mode value\n",
    "for i in problem_data:\n",
    "    if i[1] == '':\n",
    "        i[1] = 'A'"
   ]
  },
  {
   "cell_type": "code",
   "execution_count": 6,
   "metadata": {},
   "outputs": [],
   "source": [
    "#user diff_profile\n",
    "diff_profile = [[0]*14 for _ in unique_users]\n",
    "#prev_solved problems by users(so that the same one won't be recomended again)\n",
    "prev_solved = [[] for _ in unique_users]\n",
    "\n",
    "#user diff_profile calculation\n",
    "for u, user in enumerate(unique_users):\n",
    "    for subs in train_subs:\n",
    "        if subs[0] == user:\n",
    "            prev_solved[u].append(subs[1])\n",
    "            for problem in problem_data:\n",
    "                if problem[0] == subs[1]:\n",
    "                    diff_profile[u][ord(problem[1]) - 65] += int(subs[2])\n",
    "                    break\n",
    "                    \n",
    "#normalization\n",
    "for u, user in enumerate(diff_profile):\n",
    "    denom = sum(user)\n",
    "    diff_profile[u] = [i/denom for i in user]"
   ]
  },
  {
   "cell_type": "code",
   "execution_count": 7,
   "metadata": {},
   "outputs": [],
   "source": [
    "#user easy_profile\n",
    "easy_profile = [[0]*14 for _ in unique_users]\n",
    "#prev_solved problems by users(so that the same one won't be recomended again)\n",
    "prev_solved = [[] for _ in unique_users]\n",
    "\n",
    "#user easy_profile calculation\n",
    "for u, user in enumerate(unique_users):\n",
    "    for subs in train_subs:\n",
    "        if subs[0] == user:\n",
    "            prev_solved[u].append(subs[1])\n",
    "            for problem in problem_data:\n",
    "                if problem[0] == subs[1]:\n",
    "                    easy_profile[u][ord(problem[1]) - 65] += int(subs[3])\n",
    "                    break\n",
    "                    \n",
    "#normalization\n",
    "for u, user in enumerate(easy_profile):\n",
    "    denom = sum(user)\n",
    "    easy_profile[u] = [i/denom for i in user]"
   ]
  },
  {
   "cell_type": "code",
   "execution_count": 9,
   "metadata": {},
   "outputs": [
    {
     "name": "stdout",
     "output_type": "stream",
     "text": [
      "user_id(number) : 3311\n",
      "number of recommendations required : 5\n",
      "recommended problems to be easier(E) or difficult(D) : E\n",
      "\n",
      "recommended problems :  ['prob_2940', 'prob_3059', 'prob_4069', 'prob_3750', 'prob_5088']\n"
     ]
    }
   ],
   "source": [
    "user_query = 'user_' + input('user_id(number) : ')\n",
    "k  = int(input('number of recommendations required : '))\n",
    "flag = 1\n",
    "\n",
    "#profile of queried user\n",
    "while(flag):\n",
    "    DorE = input('recommended problems to be easier(E) or difficult(D) : ')\n",
    "    if DorE == 'D':\n",
    "        query_profile = diff_profile[unique_users.index(user_query)]\n",
    "        flag = 0\n",
    "    elif DorE == 'E':\n",
    "        query_profile = easy_profile[unique_users.index(user_query)]\n",
    "        flag = 0\n",
    "\n",
    "#profile sorted according to the values in list and indices(level_type_encoded) stored seperately\n",
    "sorted_profile = [index for index, value in sorted(enumerate(query_profile), reverse=True, key=lambda x:x[1])]\n",
    "\n",
    "recommendation = []\n",
    "\n",
    "for index in sorted_profile:\n",
    "    for problem in problem_data:\n",
    "        if problem[1] == chr(index+65) and problem[0] not in prev_solved[unique_users.index(user_query)]:\n",
    "            recommendation.append(problem[0])\n",
    "\n",
    "#final recommendation list calculation based on value of k\n",
    "recommendation = recommendation[:k]\n",
    "print('\\nrecommended problems : ', recommendation)"
   ]
  },
  {
   "cell_type": "code",
   "execution_count": null,
   "metadata": {},
   "outputs": [],
   "source": []
  }
 ],
 "metadata": {
  "kernelspec": {
   "display_name": "Python 3",
   "language": "python",
   "name": "python3"
  },
  "language_info": {
   "codemirror_mode": {
    "name": "ipython",
    "version": 3
   },
   "file_extension": ".py",
   "mimetype": "text/x-python",
   "name": "python",
   "nbconvert_exporter": "python",
   "pygments_lexer": "ipython3",
   "version": "3.6.5"
  }
 },
 "nbformat": 4,
 "nbformat_minor": 2
}
